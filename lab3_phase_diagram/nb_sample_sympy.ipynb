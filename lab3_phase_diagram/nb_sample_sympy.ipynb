{
 "metadata": {
  "name": ""
 },
 "nbformat": 3,
 "nbformat_minor": 0,
 "worksheets": [
  {
   "cells": [
    {
     "cell_type": "code",
     "collapsed": false,
     "input": [
      "from __future__ import division\n",
      "from sympy import *\n",
      "x, y, z, t = symbols('x y z t')\n",
      "k, m, n = symbols('k m n', integer=True)\n",
      "f, g, h = symbols('f g h', cls=Function)"
     ],
     "language": "python",
     "metadata": {},
     "outputs": [],
     "prompt_number": 3
    },
    {
     "cell_type": "code",
     "collapsed": true,
     "input": [
      "%load_ext sympyprt"
     ],
     "language": "python",
     "metadata": {},
     "outputs": [
      {
       "output_type": "stream",
       "stream": "stdout",
       "text": [
        "The sympyprt extension is already loaded. To reload it, use:\n",
        "  %reload_ext sympyprt\n"
       ]
      }
     ],
     "prompt_number": 8
    },
    {
     "cell_type": "code",
     "collapsed": false,
     "input": [
      "%sympyprt on\n",
      "%sympyprt help\n"
     ],
     "language": "python",
     "metadata": {},
     "outputs": [
      {
       "output_type": "stream",
       "stream": "stdout",
       "text": [
        "Usage: %sympyprt on | off | help | use ?m | ?p ?v\n",
        " ?m : method\n",
        "  simple ...... use IPython's latex_to_png method (no options)\n",
        "  mplib ....... use matplotlib (options: fontsize, textcolor, resolution)\n",
        "  latex ....... use LaTeX/dvipng. Options are: fontsize, textcolor,\n",
        "                resolution, imagesize, backcolor and offset.\n",
        "\n",
        " ?p : parameter, ?v : value\n",
        "  fontsize .... set the fontsize (unit: pt), ?v:Integer (default 11)\n",
        "  resolution .. set the resolution (unit: dpi), ?v:Integer (default 140)\n",
        "  imagesize ... set the image size. ?v may be tight, bbox or\n",
        "                a comma separated dimension pair: e.g. 4cm,2cm\n",
        "                ** No whitespace between characters! Default is tight.\n",
        "  textcolor.... set the foreground color. ?v:colorname, e.g. Red, Blue\n",
        "  backcolor ... set the background color. ?v:colorname, e.g. Yellow\n",
        "  offset ...... offset for image content. ?v: a comma separated dimension\n",
        "                pair: e.g. -1cm,-2cm (No whitespace between characters!)\n",
        "  mode ........ ?v : inline|equation|equation*\n",
        "  matrix ...... matrix type: ?v : p|v|b|V|B|small (as in LaTeX: ?v-matrix)\n",
        "  breqn ....... use the breqn package: ?v : on|off\n",
        "  reset ....... ?v : config|cache;\n",
        "                config: reset the global cfg (gcfg) to factory settings (fs).\n",
        "                cache: clear the cache\n",
        "  show ........ ?v : most ?p above|method|preamble;\n",
        "                Show current parameter settings; ex. %sympyprt show fontsize\n",
        "*EOI*\n",
        "\n"
       ]
      }
     ],
     "prompt_number": 17
    },
    {
     "cell_type": "code",
     "collapsed": false,
     "input": [
      "(1/cos(x)).series(x, 0, 10)"
     ],
     "language": "python",
     "metadata": {},
     "outputs": [
      {
       "output_type": "stream",
       "stream": "stdout",
       "text": [
        "Error (latex): use the log property for more information.\n"
       ]
      },
      {
       "metadata": {},
       "output_type": "pyout",
       "prompt_number": 16,
       "text": [
        "\n",
        "     2      4       6        8         \n",
        "    x    5\u22c5x    61\u22c5x    277\u22c5x     \u239b 10\u239e\n",
        "1 + \u2500\u2500 + \u2500\u2500\u2500\u2500 + \u2500\u2500\u2500\u2500\u2500 + \u2500\u2500\u2500\u2500\u2500\u2500 + O\u239dx  \u23a0\n",
        "    2     24     720     8064          "
       ]
      }
     ],
     "prompt_number": 16
    },
    {
     "cell_type": "code",
     "collapsed": false,
     "input": [
      "pi**2"
     ],
     "language": "python",
     "metadata": {},
     "outputs": [
      {
       "output_type": "stream",
       "stream": "stdout",
       "text": [
        "Error (latex): use the log property for more information.\n"
       ]
      },
      {
       "metadata": {},
       "output_type": "pyout",
       "prompt_number": 6,
       "text": [
        "\n",
        " 2\n",
        "\u03c0 "
       ]
      }
     ],
     "prompt_number": 6
    },
    {
     "cell_type": "code",
     "collapsed": false,
     "input": [
      "oo+1"
     ],
     "language": "python",
     "metadata": {},
     "outputs": [
      {
       "output_type": "pyout",
       "png": "[encoded data removed]",
       "prompt_number": 6,
       "text": [
        "\u221e"
       ]
      }
     ],
     "prompt_number": 6
    },
    {
     "cell_type": "code",
     "collapsed": false,
     "input": [
      "1/( (x+2)*(x+1) )"
     ],
     "language": "python",
     "metadata": {},
     "outputs": [
      {
       "output_type": "pyout",
       "png": "[encoded data removed]",
       "prompt_number": 8,
       "text": [
        "\n",
        "       1       \n",
        "\u2500\u2500\u2500\u2500\u2500\u2500\u2500\u2500\u2500\u2500\u2500\u2500\u2500\u2500\u2500\n",
        "(x + 1)\u22c5(x + 2)"
       ]
      }
     ],
     "prompt_number": 8
    },
    {
     "cell_type": "code",
     "collapsed": false,
     "input": [
      "diff(sin(x), x)"
     ],
     "language": "python",
     "metadata": {},
     "outputs": [
      {
       "output_type": "stream",
       "stream": "stdout",
       "text": [
        "Error (latex): use the log property for more information.\n"
       ]
      },
      {
       "metadata": {},
       "output_type": "pyout",
       "prompt_number": 7,
       "text": [
        "cos(x)"
       ]
      }
     ],
     "prompt_number": 7
    },
    {
     "cell_type": "code",
     "collapsed": true,
     "input": [
      "e = 1/(x + y)\n",
      "s = e.series(x, 0, 5)"
     ],
     "language": "python",
     "metadata": {},
     "outputs": [],
     "prompt_number": 10
    },
    {
     "cell_type": "code",
     "collapsed": false,
     "input": [
      "e"
     ],
     "language": "python",
     "metadata": {},
     "outputs": [
      {
       "output_type": "pyout",
       "png": "[encoded data removed]",
       "prompt_number": 11,
       "text": [
        "\n",
        "  1  \n",
        "\u2500\u2500\u2500\u2500\u2500\n",
        "x + y"
       ]
      }
     ],
     "prompt_number": 11
    },
    {
     "cell_type": "code",
     "collapsed": false,
     "input": [
      "s"
     ],
     "language": "python",
     "metadata": {},
     "outputs": [
      {
       "output_type": "pyout",
       "png": "[encoded data removed]",
       "prompt_number": 18,
       "text": [
        "\n",
        "          2    3    4          \n",
        "1   x    x    x    x           \n",
        "\u2500 - \u2500\u2500 + \u2500\u2500 - \u2500\u2500 + \u2500\u2500 + O(x**5)\n",
        "y    2    3    4    5          \n",
        "    y    y    y    y           "
       ]
      }
     ],
     "prompt_number": 18
    },
    {
     "cell_type": "code",
     "collapsed": false,
     "input": [
      "integrate(exp(-x**2)*erf(x), x)"
     ],
     "language": "python",
     "metadata": {},
     "outputs": [
      {
       "output_type": "pyout",
       "png": "[encoded data removed]",
       "prompt_number": 14,
       "text": [
        "\n",
        "  \u23bd\u23bd\u23bd    2   \n",
        "\u2572\u2571 \u03c0 \u22c5erf (x)\n",
        "\u2500\u2500\u2500\u2500\u2500\u2500\u2500\u2500\u2500\u2500\u2500\u2500\u2500\n",
        "      4      "
       ]
      }
     ],
     "prompt_number": 14
    },
    {
     "cell_type": "code",
     "collapsed": false,
     "input": [
      "exp(I*x).expand(complex=True)"
     ],
     "language": "python",
     "metadata": {},
     "outputs": [
      {
       "output_type": "pyout",
       "png": "[encoded data removed]",
       "prompt_number": 15,
       "text": [
        "\n",
        "   -im(x)               -im(x)           \n",
        "\u2148\u22c5\u212f      \u22c5sin(re(x)) + \u212f      \u22c5cos(re(x))"
       ]
      }
     ],
     "prompt_number": 15
    },
    {
     "cell_type": "code",
     "collapsed": false,
     "input": [
      "from sympy.abc import theta, phi\n",
      "Ylm(2, 1, theta, phi)"
     ],
     "language": "python",
     "metadata": {},
     "outputs": [
      {
       "output_type": "pyout",
       "png": "[encoded data removed]",
       "prompt_number": 17,
       "text": [
        "\n",
        "   \u23bd\u23bd\u23bd\u23bd  \u2148\u22c5\u03c6              \n",
        "-\u2572\u2571 30 \u22c5\u212f   \u22c5sin(\u03b8)\u22c5cos(\u03b8)\n",
        "\u2500\u2500\u2500\u2500\u2500\u2500\u2500\u2500\u2500\u2500\u2500\u2500\u2500\u2500\u2500\u2500\u2500\u2500\u2500\u2500\u2500\u2500\u2500\u2500\u2500\u2500\n",
        "             \u23bd\u23bd\u23bd          \n",
        "         4\u22c5\u2572\u2571 \u03c0           "
       ]
      }
     ],
     "prompt_number": 17
    },
    {
     "cell_type": "code",
     "collapsed": false,
     "input": [
      "factorial(x)"
     ],
     "language": "python",
     "metadata": {},
     "outputs": [
      {
       "output_type": "pyout",
       "png": "[encoded data removed]",
       "prompt_number": 19,
       "text": [
        "x!"
       ]
      }
     ],
     "prompt_number": 19
    },
    {
     "cell_type": "code",
     "collapsed": false,
     "input": [
      "gamma(x + 1).series(x, 0, 3)"
     ],
     "language": "python",
     "metadata": {},
     "outputs": [
      {
       "output_type": "pyout",
       "png": "[encoded data removed]",
       "prompt_number": 20,
       "text": [
        "\n",
        "                    2  2             2  2          \n",
        "                   \u03c0 \u22c5x    EulerGamma \u22c5x           \n",
        "1 - EulerGamma\u22c5x + \u2500\u2500\u2500\u2500\u2500 + \u2500\u2500\u2500\u2500\u2500\u2500\u2500\u2500\u2500\u2500\u2500\u2500\u2500\u2500 + O(x**3)\n",
        "                     12          2                 "
       ]
      }
     ],
     "prompt_number": 20
    },
    {
     "cell_type": "code",
     "collapsed": false,
     "input": [
      "assoc_legendre(2, 1, x)"
     ],
     "language": "python",
     "metadata": {},
     "outputs": [
      {
       "output_type": "pyout",
       "png": "[encoded data removed]",
       "prompt_number": 21,
       "text": [
        "\n",
        "        \u23bd\u23bd\u23bd\u23bd\u23bd\u23bd\u23bd\u23bd\u23bd\u23bd\n",
        "       \u2571    2     \n",
        "-3\u22c5x\u22c5\u2572\u2571  - x  + 1 "
       ]
      }
     ],
     "prompt_number": 21
    },
    {
     "cell_type": "code",
     "collapsed": false,
     "input": [
      "f(x).diff(x, x) + f(x)"
     ],
     "language": "python",
     "metadata": {},
     "outputs": [
      {
       "output_type": "pyout",
       "png": "[encoded data removed]",
       "prompt_number": 22,
       "text": [
        "\n",
        "         2      \n",
        "        d       \n",
        "f(x) + \u2500\u2500\u2500(f(x))\n",
        "         2      \n",
        "       dx       "
       ]
      }
     ],
     "prompt_number": 22
    },
    {
     "cell_type": "code",
     "collapsed": false,
     "input": [
      "dsolve(f(x).diff(x, x) + f(x), f(x))"
     ],
     "language": "python",
     "metadata": {},
     "outputs": [
      {
       "output_type": "pyout",
       "png": "[encoded data removed]",
       "prompt_number": 23,
       "text": [
        "f(x) = C\u2081\u22c5cos(x) + C\u2082\u22c5sin(x)"
       ]
      }
     ],
     "prompt_number": 23
    },
    {
     "cell_type": "code",
     "collapsed": true,
     "input": [
      "from sympy import Matrix\n",
      "A = Matrix([[1,x], [y,1]])"
     ],
     "language": "python",
     "metadata": {},
     "outputs": [],
     "prompt_number": 24
    },
    {
     "cell_type": "code",
     "collapsed": false,
     "input": [
      "A"
     ],
     "language": "python",
     "metadata": {},
     "outputs": [
      {
       "output_type": "pyout",
       "png": "[encoded data removed]",
       "prompt_number": 25,
       "text": [
        "\n",
        "\u23a11  x\u23a4\n",
        "\u23a2    \u23a5\n",
        "\u23a3y  1\u23a6"
       ]
      }
     ],
     "prompt_number": 25
    },
    {
     "cell_type": "code",
     "collapsed": false,
     "input": [
      "A**2"
     ],
     "language": "python",
     "metadata": {},
     "outputs": [
      {
       "output_type": "pyout",
       "png": "[encoded data removed]",
       "prompt_number": 26,
       "text": [
        "\n",
        "\u23a1x\u22c5y + 1    2\u22c5x  \u23a4\n",
        "\u23a2                \u23a5\n",
        "\u23a3  2\u22c5y    x\u22c5y + 1\u23a6"
       ]
      }
     ],
     "prompt_number": 26
    },
    {
     "cell_type": "code",
     "collapsed": false,
     "input": [
      "Integral(x**2, x)"
     ],
     "language": "python",
     "metadata": {},
     "outputs": [
      {
       "output_type": "pyout",
       "png": "[encoded data removed]",
       "prompt_number": 27,
       "text": [
        "\n",
        "\u2320      \n",
        "\u23ae  2   \n",
        "\u23ae x  dx\n",
        "\u2321      "
       ]
      }
     ],
     "prompt_number": 27
    },
    {
     "cell_type": "code",
     "collapsed": false,
     "input": [
      "N(sqrt(2)*pi, 50)"
     ],
     "language": "python",
     "metadata": {},
     "outputs": [
      {
       "output_type": "pyout",
       "png": "[encoded data removed]",
       "prompt_number": 28,
       "text": [
        "4.4428829381583662470158809900606936986146216893757"
       ]
      }
     ],
     "prompt_number": 28
    },
    {
     "cell_type": "code",
     "collapsed": false,
     "input": [
      "Abs(-x)"
     ],
     "language": "python",
     "metadata": {},
     "outputs": [
      {
       "output_type": "pyout",
       "png": "[encoded data removed]",
       "prompt_number": 29,
       "text": [
        "\u2502x\u2502"
       ]
      }
     ],
     "prompt_number": 29
    },
    {
     "cell_type": "code",
     "collapsed": false,
     "input": [
      "binomial(x,y)"
     ],
     "language": "python",
     "metadata": {},
     "outputs": [
      {
       "output_type": "pyout",
       "prompt_number": 30,
       "text": [
        "\n",
        "\u239bx\u239e\n",
        "\u239c \u239f\n",
        "\u239dy\u23a0"
       ]
      }
     ],
     "prompt_number": 30
    },
    {
     "cell_type": "code",
     "collapsed": true,
     "input": [
      "g = meijerg([1], [2], [3], [4], x)"
     ],
     "language": "python",
     "metadata": {},
     "outputs": [],
     "prompt_number": 31
    },
    {
     "cell_type": "code",
     "collapsed": false,
     "input": [
      "g"
     ],
     "language": "python",
     "metadata": {},
     "outputs": [
      {
       "output_type": "pyout",
       "png": "[encoded data removed]",
       "prompt_number": 32,
       "text": [
        "\n",
        "\u256d\u2500\u256e1, 1 \u239b1  2 \u2502  \u239e\n",
        "\u2502\u2576\u2510     \u239c     \u2502 x\u239f\n",
        "\u2570\u2500\u256f2, 2 \u239d3  4 \u2502  \u23a0"
       ]
      }
     ],
     "prompt_number": 32
    },
    {
     "cell_type": "code",
     "collapsed": false,
     "input": [
      "integrate(x**2 * exp(x) * cos(x), x)"
     ],
     "language": "python",
     "metadata": {},
     "outputs": [
      {
       "output_type": "pyout",
       "png": "[encoded data removed]",
       "prompt_number": 33,
       "text": [
        "\n",
        " 2  x           2  x                         x           x       \n",
        "x \u22c5\u212f \u22c5sin(x)   x \u22c5\u212f \u22c5cos(x)      x          \u212f \u22c5sin(x)   \u212f \u22c5cos(x)\n",
        "\u2500\u2500\u2500\u2500\u2500\u2500\u2500\u2500\u2500\u2500\u2500\u2500 + \u2500\u2500\u2500\u2500\u2500\u2500\u2500\u2500\u2500\u2500\u2500\u2500 - x\u22c5\u212f \u22c5sin(x) + \u2500\u2500\u2500\u2500\u2500\u2500\u2500\u2500\u2500 - \u2500\u2500\u2500\u2500\u2500\u2500\u2500\u2500\u2500\n",
        "     2              2                           2           2    "
       ]
      }
     ],
     "prompt_number": 33
    },
    {
     "cell_type": "code",
     "collapsed": false,
     "input": [
      "y | (x & y)"
     ],
     "language": "python",
     "metadata": {},
     "outputs": [
      {
       "output_type": "pyout",
       "png": "[encoded data removed]",
       "prompt_number": 34,
       "text": [
        "(x \u2227 y) \u2228 y"
       ]
      }
     ],
     "prompt_number": 34
    },
    {
     "cell_type": "code",
     "collapsed": false,
     "input": [
      "x >> y"
     ],
     "language": "python",
     "metadata": {},
     "outputs": [
      {
       "output_type": "pyout",
       "png": "[encoded data removed]",
       "prompt_number": 35,
       "text": [
        "x \u2192 y"
       ]
      }
     ],
     "prompt_number": 35
    },
    {
     "cell_type": "code",
     "collapsed": false,
     "input": [
      "Matrix(3, 4, lambda i,j: 1 - (i+j) % 2)"
     ],
     "language": "python",
     "metadata": {},
     "outputs": [
      {
       "output_type": "pyout",
       "png": "[encoded data removed]",
       "prompt_number": 36,
       "text": [
        "\n",
        "\u23a11  0  1  0\u23a4\n",
        "\u23a2          \u23a5\n",
        "\u23a20  1  0  1\u23a5\n",
        "\u23a2          \u23a5\n",
        "\u23a31  0  1  0\u23a6"
       ]
      }
     ],
     "prompt_number": 36
    },
    {
     "cell_type": "code",
     "collapsed": true,
     "input": [
      "M = Matrix(([1,2,3,4],[5,6,7,8],[9,10,11,12],[13,14,15,16]))"
     ],
     "language": "python",
     "metadata": {},
     "outputs": [],
     "prompt_number": 37
    },
    {
     "cell_type": "code",
     "collapsed": false,
     "input": [
      "M"
     ],
     "language": "python",
     "metadata": {},
     "outputs": [
      {
       "output_type": "pyout",
       "png": "[encoded data removed]",
       "prompt_number": 38,
       "text": [
        "\n",
        "\u23a11   2   3   4 \u23a4\n",
        "\u23a2              \u23a5\n",
        "\u23a25   6   7   8 \u23a5\n",
        "\u23a2              \u23a5\n",
        "\u23a29   10  11  12\u23a5\n",
        "\u23a2              \u23a5\n",
        "\u23a313  14  15  16\u23a6"
       ]
      }
     ],
     "prompt_number": 38
    },
    {
     "cell_type": "code",
     "collapsed": false,
     "input": [
      "M**4"
     ],
     "language": "python",
     "metadata": {},
     "outputs": [
      {
       "output_type": "pyout",
       "png": "[encoded data removed]",
       "prompt_number": 41,
       "text": [
        "\n",
        "\u23a1113960  129040  144120  159200\u23a4\n",
        "\u23a2                              \u23a5\n",
        "\u23a2263272  298128  332984  367840\u23a5\n",
        "\u23a2                              \u23a5\n",
        "\u23a2412584  467216  521848  576480\u23a5\n",
        "\u23a2                              \u23a5\n",
        "\u23a3561896  636304  710712  785120\u23a6"
       ]
      }
     ],
     "prompt_number": 41
    },
    {
     "cell_type": "code",
     "collapsed": true,
     "input": [
      "A = Matrix([[1,1,1],[1,1,3],[2,3,4]])\n",
      "Q, R = A.QRdecomposition()"
     ],
     "language": "python",
     "metadata": {},
     "outputs": [],
     "prompt_number": 42
    },
    {
     "cell_type": "code",
     "collapsed": false,
     "input": [
      "Q"
     ],
     "language": "python",
     "metadata": {},
     "outputs": [
      {
       "output_type": "pyout",
       "png": "[encoded data removed]",
       "prompt_number": 43,
       "text": [
        "\n",
        "\u23a1  \u23bd\u23bd\u23bd     \u23bd\u23bd\u23bd     \u23bd\u23bd\u23bd\u23a4\n",
        "\u23a2\u2572\u2571 6   -\u2572\u2571 3   -\u2572\u2571 2 \u23a5\n",
        "\u23a2\u2500\u2500\u2500\u2500\u2500  \u2500\u2500\u2500\u2500\u2500\u2500  \u2500\u2500\u2500\u2500\u2500\u2500\u23a5\n",
        "\u23a2  6      3       2   \u23a5\n",
        "\u23a2                     \u23a5\n",
        "\u23a2  \u23bd\u23bd\u23bd     \u23bd\u23bd\u23bd    \u23bd\u23bd\u23bd \u23a5\n",
        "\u23a2\u2572\u2571 6   -\u2572\u2571 3   \u2572\u2571 2  \u23a5\n",
        "\u23a2\u2500\u2500\u2500\u2500\u2500  \u2500\u2500\u2500\u2500\u2500\u2500  \u2500\u2500\u2500\u2500\u2500 \u23a5\n",
        "\u23a2  6      3       2   \u23a5\n",
        "\u23a2                     \u23a5\n",
        "\u23a2  \u23bd\u23bd\u23bd    \u23bd\u23bd\u23bd         \u23a5\n",
        "\u23a2\u2572\u2571 6   \u2572\u2571 3          \u23a5\n",
        "\u23a2\u2500\u2500\u2500\u2500\u2500  \u2500\u2500\u2500\u2500\u2500     0   \u23a5\n",
        "\u23a3  3      3           \u23a6"
       ]
      }
     ],
     "prompt_number": 43
    },
    {
     "cell_type": "code",
     "collapsed": false,
     "input": [
      "x, y, t, x0, y0, C1= symbols('x,y,t,x0,y0,C1')\n",
      "P, Q, F= map(Function, ['P', 'Q', 'F'])\n",
      "Eq(Eq(F(x, y), Integral(P(t, y), (t, x0, x)) + Integral(Q(x0, t), (t, y0, y))), C1)"
     ],
     "language": "python",
     "metadata": {},
     "outputs": [
      {
       "output_type": "pyout",
       "png": "[encoded data removed]",
       "prompt_number": 45,
       "text": [
        "\n",
        "          x               y                  \n",
        "          \u2320               \u2320                  \n",
        "F(x, y) = \u23ae  P(t, y) dt + \u23ae  Q(x\u2080, t) dt = C\u2081\n",
        "          \u2321               \u2321                  \n",
        "          x\u2080              y\u2080                 "
       ]
      }
     ],
     "prompt_number": 45
    },
    {
     "cell_type": "code",
     "collapsed": false,
     "input": [
      "dsolve(2*x*f(x) + (x**2 + f(x)**2)*f(x).diff(x), f(x),hint='1st_homogeneous_coeff_best')"
     ],
     "language": "python",
     "metadata": {},
     "outputs": [
      {
       "output_type": "pyout",
       "png": "[encoded data removed]",
       "prompt_number": 46,
       "text": [
        "\n",
        "      \u23bd\u23bd\u23bd\u23bd\u23bd\u23bd\u23bd\u23bd\u23bd\u23bd\u23bd          \n",
        "     \u2571     2               \n",
        "    \u2571   3\u22c5x                \n",
        "   \u2571   \u2500\u2500\u2500\u2500\u2500 + 1 \u22c5f(x) = C\u2081\n",
        "3 \u2571     2                  \n",
        "\u2572\u2571     f (x)               "
       ]
      }
     ],
     "prompt_number": 46
    },
    {
     "cell_type": "code",
     "collapsed": false,
     "input": [
      "dsolve(2*x*f(x) + (x**2 + f(x)**2)*f(x).diff(x), f(x),hint='1st_homogeneous_coeff_subs_indep_div_dep')"
     ],
     "language": "python",
     "metadata": {},
     "outputs": [
      {
       "output_type": "pyout",
       "png": "[encoded data removed]",
       "prompt_number": 49,
       "text": [
        "\n",
        "      \u23bd\u23bd\u23bd\u23bd\u23bd\u23bd\u23bd\u23bd\u23bd\u23bd\u23bd          \n",
        "     \u2571     2               \n",
        "    \u2571   3\u22c5x                \n",
        "   \u2571   \u2500\u2500\u2500\u2500\u2500 + 1 \u22c5f(x) = C\u2081\n",
        "3 \u2571     2                  \n",
        "\u2572\u2571     f (x)               "
       ]
      }
     ],
     "prompt_number": 49
    },
    {
     "cell_type": "code",
     "collapsed": true,
     "input": [
      "n=Symbol('n')\n",
      "f, P, Q = map(Function, ['f', 'P', 'Q'])\n",
      "genform = Eq(f(x).diff(x) + P(x)*f(x), Q(x)*f(x)**n)"
     ],
     "language": "python",
     "metadata": {},
     "outputs": [],
     "prompt_number": 50
    },
    {
     "cell_type": "code",
     "collapsed": false,
     "input": [
      "genform"
     ],
     "language": "python",
     "metadata": {},
     "outputs": [
      {
       "output_type": "pyout",
       "png": "[encoded data removed]",
       "prompt_number": 51,
       "text": [
        "\n",
        "            d                n   \n",
        "P(x)\u22c5f(x) + \u2500\u2500(f(x)) = Q(x)\u22c5f (x)\n",
        "            dx                   "
       ]
      }
     ],
     "prompt_number": 51
    },
    {
     "cell_type": "code",
     "collapsed": false,
     "input": [
      "dsolve(genform, f(x), hint='Bernoulli_Integral')"
     ],
     "language": "python",
     "metadata": {},
     "outputs": [
      {
       "output_type": "pyout",
       "png": "[encoded data removed]",
       "prompt_number": 52,
       "text": [
        "\n",
        "                                                                             1\n",
        "                                                                           \u2500\u2500\u2500\n",
        "                                                                           -n \n",
        "       \u239b\u239b             \u2320                             \u239e                     \u239e   \n",
        "       \u239c\u239c             \u23ae                 \u2320           \u239f            \u2320        \u239f   \n",
        "       \u239c\u239c             \u23ae        (-n + 1)\u22c5\u23ae P(x) dx   \u239f  -(-n + 1)\u22c5\u23ae P(x) dx\u239f   \n",
        "       \u239c\u239c             \u23ae                 \u2321           \u239f            \u2321        \u239f   \n",
        "f(x) = \u239c\u239cC\u2081 + (n - 1)\u22c5\u23ae -Q(x)\u22c5\u212f                   dx\u239f\u22c5\u212f                   \u239f   \n",
        "       \u239d\u239d             \u2321                             \u23a0                     \u23a0   \n",
        "\n",
        "   \n",
        "\u2500\u2500\u2500\n",
        "+ 1\n",
        "   \n",
        "   \n",
        "   \n",
        "   \n",
        "   \n",
        "   "
       ]
      }
     ],
     "prompt_number": 52
    },
    {
     "cell_type": "code",
     "collapsed": true,
     "input": [
      "from sympy.tensor import IndexedBase, Idx"
     ],
     "language": "python",
     "metadata": {},
     "outputs": [],
     "prompt_number": 53
    },
    {
     "cell_type": "code",
     "collapsed": true,
     "input": [
      "M = IndexedBase('M')\n",
      "i, j = map(Idx, ['i', 'j'])"
     ],
     "language": "python",
     "metadata": {},
     "outputs": [],
     "prompt_number": 54
    },
    {
     "cell_type": "code",
     "collapsed": false,
     "input": [
      "M[i, j]"
     ],
     "language": "python",
     "metadata": {},
     "outputs": [
      {
       "output_type": "pyout",
       "png": "[encoded data removed]",
       "prompt_number": 56,
       "text": [
        "M[i, j]"
       ]
      }
     ],
     "prompt_number": 56
    },
    {
     "cell_type": "code",
     "collapsed": false,
     "input": [
      "%sympyprt help"
     ],
     "language": "python",
     "metadata": {},
     "outputs": [
      {
       "output_type": "stream",
       "stream": "stdout",
       "text": [
        "Usage: %&lt;magicname&gt; on | off | help | use &lt;m&gt; | &lt;p&gt; &lt;v&gt;\n",
        "&lt;m&gt; : method\n",
        "  simple ...... use IPython&apos;s latex_to_png (no options)\n",
        "  mplib ....... use matplotlib (options: fontsize, textcolor, resolution)\n",
        "  latex ....... use LaTeX (required). Options are: fontsize, textcolor,\n",
        "                resolution, imagesize, backcolor and offset.\n",
        "\n",
        "&lt;p&gt; : parameter, &lt;v&gt; : value\n",
        "  fontsize .... set the fontsize (unit: pt), &lt;v&gt; = Integer\n",
        "  resolution .. set the resolution (unit: dpi), &lt;v&gt; = Integer\n",
        "  imagesize ... set the image size. &lt;v&gt; may be tight, bbox or\n",
        "                a comma separated dimension pair: e.g. 4cm,2cm\n",
        "                (No whitespace between characters!)\n",
        "  textcolor.... set the foreground color. &lt;v&gt; = colorname, e.g. Red, Blue\n",
        "  backcolor ... set the background color. &lt;v&gt; = colorname, e.g. Yellow\n",
        "  offset ...... offset for image content. &lt;v&gt; = a comma separated dimension\n",
        "                pair: e.g. -1cm,-2cm (No whitespace between characters!)\n",
        "  mode ........ &lt;v&gt; = inline, equation, equation*\n",
        "  matrix ...... matrix type: &lt;v&gt; = p,v,b,V,B,small (as in LaTeX: &lt;v&gt;matrix)\n",
        "  breqn ....... use the breqn package: &lt;v&gt; = on/off\n",
        "  reset ....... &lt;v&gt; = config|cache; config: reset the cfg to factory settings\n",
        "                cache: clear the cache and remove the png files from temp.\n",
        "*EOI*\n"
       ]
      }
     ],
     "prompt_number": 57
    },
    {
     "cell_type": "code",
     "collapsed": true,
     "input": [
      "%sympyprt textcolor Red"
     ],
     "language": "python",
     "metadata": {},
     "outputs": [],
     "prompt_number": 58
    },
    {
     "cell_type": "code",
     "collapsed": false,
     "input": [
      "g #cached"
     ],
     "language": "python",
     "metadata": {},
     "outputs": [
      {
       "output_type": "pyout",
       "png": "[encoded data removed]",
       "prompt_number": 59,
       "text": [
        "\n",
        "\u256d\u2500\u256e1, 1 \u239b1  2 \u2502  \u239e\n",
        "\u2502\u2576\u2510     \u239c     \u2502 x\u239f\n",
        "\u2570\u2500\u256f2, 2 \u239d3  4 \u2502  \u23a0"
       ]
      }
     ],
     "prompt_number": 59
    },
    {
     "cell_type": "code",
     "collapsed": false,
     "input": [
      "(1/cos(x)).series(x, 0, 10) #cached "
     ],
     "language": "python",
     "metadata": {},
     "outputs": [
      {
       "output_type": "pyout",
       "png": "[encoded data removed]",
       "prompt_number": 60,
       "text": [
        "\n",
        "     2      4       6        8           \n",
        "    x    5\u22c5x    61\u22c5x    277\u22c5x            \n",
        "1 + \u2500\u2500 + \u2500\u2500\u2500\u2500 + \u2500\u2500\u2500\u2500\u2500 + \u2500\u2500\u2500\u2500\u2500\u2500 + O(x**10)\n",
        "    2     24     720     8064            "
       ]
      }
     ],
     "prompt_number": 60
    },
    {
     "cell_type": "code",
     "collapsed": false,
     "input": [
      "x**n # not cached"
     ],
     "language": "python",
     "metadata": {},
     "outputs": [
      {
       "output_type": "pyout",
       "png": "[encoded data removed]",
       "prompt_number": 61,
       "text": [
        "\n",
        " n\n",
        "x "
       ]
      }
     ],
     "prompt_number": 61
    },
    {
     "cell_type": "code",
     "collapsed": true,
     "input": [
      "%sympyprt reset cache "
     ],
     "language": "python",
     "metadata": {},
     "outputs": [],
     "prompt_number": 62
    },
    {
     "cell_type": "code",
     "collapsed": false,
     "input": [
      "g"
     ],
     "language": "python",
     "metadata": {},
     "outputs": [
      {
       "output_type": "pyout",
       "png": "[encoded data removed]",
       "prompt_number": 63,
       "text": [
        "\n",
        "\u256d\u2500\u256e1, 1 \u239b1  2 \u2502  \u239e\n",
        "\u2502\u2576\u2510     \u239c     \u2502 x\u239f\n",
        "\u2570\u2500\u256f2, 2 \u239d3  4 \u2502  \u23a0"
       ]
      }
     ],
     "prompt_number": 63
    },
    {
     "cell_type": "code",
     "collapsed": false,
     "input": [
      "(1/cos(x)).series(x, 0, 10) #after reset"
     ],
     "language": "python",
     "metadata": {},
     "outputs": [
      {
       "output_type": "pyout",
       "png": "[encoded data removed]",
       "prompt_number": 64,
       "text": [
        "\n",
        "     2      4       6        8           \n",
        "    x    5\u22c5x    61\u22c5x    277\u22c5x            \n",
        "1 + \u2500\u2500 + \u2500\u2500\u2500\u2500 + \u2500\u2500\u2500\u2500\u2500 + \u2500\u2500\u2500\u2500\u2500\u2500 + O(x**10)\n",
        "    2     24     720     8064            "
       ]
      }
     ],
     "prompt_number": 64
    },
    {
     "cell_type": "code",
     "collapsed": false,
     "input": [
      "(1/cos(x)).series(x, 0, 20) # without breqn"
     ],
     "language": "python",
     "metadata": {},
     "outputs": [
      {
       "output_type": "pyout",
       "png": "[encoded data removed]",
       "prompt_number": 65,
       "text": [
        "\n",
        "     2      4       6        8          10           12              14       \n",
        "    x    5\u22c5x    61\u22c5x    277\u22c5x    50521\u22c5x     540553\u22c5x     199360981\u22c5x     3878\n",
        "1 + \u2500\u2500 + \u2500\u2500\u2500\u2500 + \u2500\u2500\u2500\u2500\u2500 + \u2500\u2500\u2500\u2500\u2500\u2500 + \u2500\u2500\u2500\u2500\u2500\u2500\u2500\u2500\u2500 + \u2500\u2500\u2500\u2500\u2500\u2500\u2500\u2500\u2500\u2500 + \u2500\u2500\u2500\u2500\u2500\u2500\u2500\u2500\u2500\u2500\u2500\u2500\u2500 + \u2500\u2500\u2500\u2500\n",
        "    2     24     720     8064     3628800     95800320     87178291200    4184\n",
        "\n",
        "        16                  18           \n",
        "302429\u22c5x     2404879675441\u22c5x             \n",
        "\u2500\u2500\u2500\u2500\u2500\u2500\u2500\u2500\u2500\u2500 + \u2500\u2500\u2500\u2500\u2500\u2500\u2500\u2500\u2500\u2500\u2500\u2500\u2500\u2500\u2500\u2500\u2500 + O(x**20)\n",
        "557977600     6402373705728000           "
       ]
      }
     ],
     "prompt_number": 65
    },
    {
     "cell_type": "code",
     "collapsed": true,
     "input": [
      "%sympyprt breqn on"
     ],
     "language": "python",
     "metadata": {},
     "outputs": [],
     "prompt_number": 66
    },
    {
     "cell_type": "code",
     "collapsed": false,
     "input": [
      "(1/cos(x)).series(x, 0, 21) # with breqn on"
     ],
     "language": "python",
     "metadata": {},
     "outputs": [
      {
       "output_type": "pyout",
       "png": "[encoded data removed]",
       "prompt_number": 68,
       "text": [
        "\n",
        "     2      4       6        8          10           12              14       \n",
        "    x    5\u22c5x    61\u22c5x    277\u22c5x    50521\u22c5x     540553\u22c5x     199360981\u22c5x     3878\n",
        "1 + \u2500\u2500 + \u2500\u2500\u2500\u2500 + \u2500\u2500\u2500\u2500\u2500 + \u2500\u2500\u2500\u2500\u2500\u2500 + \u2500\u2500\u2500\u2500\u2500\u2500\u2500\u2500\u2500 + \u2500\u2500\u2500\u2500\u2500\u2500\u2500\u2500\u2500\u2500 + \u2500\u2500\u2500\u2500\u2500\u2500\u2500\u2500\u2500\u2500\u2500\u2500\u2500 + \u2500\u2500\u2500\u2500\n",
        "    2     24     720     8064     3628800     95800320     87178291200    4184\n",
        "\n",
        "        16                  18                   20           \n",
        "302429\u22c5x     2404879675441\u22c5x     14814847529501\u22c5x             \n",
        "\u2500\u2500\u2500\u2500\u2500\u2500\u2500\u2500\u2500\u2500 + \u2500\u2500\u2500\u2500\u2500\u2500\u2500\u2500\u2500\u2500\u2500\u2500\u2500\u2500\u2500\u2500\u2500 + \u2500\u2500\u2500\u2500\u2500\u2500\u2500\u2500\u2500\u2500\u2500\u2500\u2500\u2500\u2500\u2500\u2500\u2500 + O(x**21)\n",
        "557977600     6402373705728000   97316080327065600            "
       ]
      }
     ],
     "prompt_number": 68
    },
    {
     "cell_type": "code",
     "collapsed": true,
     "input": [],
     "language": "python",
     "metadata": {},
     "outputs": [],
     "prompt_number": "&nbsp;"
    }
   ],
   "metadata": {}
  }
 ]
}