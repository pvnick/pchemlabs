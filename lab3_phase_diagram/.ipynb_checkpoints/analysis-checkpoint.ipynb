{
 "metadata": {
  "name": ""
 },
 "nbformat": 3,
 "nbformat_minor": 0,
 "worksheets": [
  {
   "cells": [
    {
     "cell_type": "code",
     "collapsed": false,
     "input": [
      "data_file_path = '/home/pvnick/Downloads/Google Drive/pchem labs/lab3_phase_diagram/data.tsv'\n",
      "path_to_mathtex_bin = \"/home/pvnick/Downloads/mathtex-0.3/util/mathtext\""
     ],
     "language": "python",
     "metadata": {},
     "outputs": [],
     "prompt_number": 11
    },
    {
     "cell_type": "code",
     "collapsed": false,
     "input": [
      "%pylab --no-import-all inline\n",
      "%matplotlib inline\n",
      "\n",
      "import scipy as sc\n",
      "import scipy.stats\n",
      "import numpy as np\n",
      "import pandas as pd\n",
      "import os\n",
      "from fractions import Fraction\n",
      "import math\n",
      "import string\n",
      "import sympy\n",
      "from IPython.display import display, Image\n",
      "from sympy.physics.units import *\n",
      "\n",
      "sympy.init_printing(use_latex=True) "
     ],
     "language": "python",
     "metadata": {},
     "outputs": [
      {
       "output_type": "stream",
       "stream": "stdout",
       "text": [
        "Populating the interactive namespace from numpy and matplotlib\n"
       ]
      }
     ],
     "prompt_number": 10
    },
    {
     "cell_type": "code",
     "collapsed": false,
     "input": [
      "def render_math_image(latex):\n",
      "    f = open('/tmp/math.tex','w')\n",
      "    f.write(\"$\" + latex + \"$\")\n",
      "    f.close()\n",
      "    !{path_to_mathtex_bin} --font-size 18 /tmp/math.png < /tmp/math.tex\n",
      "    display(Image(filename='/tmp/math.png'))"
     ],
     "language": "python",
     "metadata": {},
     "outputs": [],
     "prompt_number": 4
    },
    {
     "cell_type": "code",
     "collapsed": false,
     "input": [
      "def student_t(df, confidence_level):\n",
      "    exact_val = sc.stats.t.ppf(df=df, q=(1+confidence_level)/2)\n",
      "    rounded = np.round(exact_val, 3)\n",
      "    return rounded"
     ],
     "language": "python",
     "metadata": {},
     "outputs": [],
     "prompt_number": 5
    },
    {
     "cell_type": "code",
     "collapsed": false,
     "input": [
      "def presentation_xbar(df, interval_decimal_place):\n",
      "    mean = df.mean()\n",
      "    str_representation = str(mean)\n",
      "    #if standard deviation is zero then dont do rounding magic\n",
      "    if df.drop_duplicates().count() > 1:\n",
      "        str_representation = round_xbar(mean, interval_decimal_place)\n",
      "    #if \".\" not in str_representation:\n",
      "    #    str_representation = str_representation + \".\"\n",
      "    return str_representation\n",
      "\n",
      "def round_xbar(mean, interval_decimal_place):\n",
      "    first_digit_decimals = interval_decimal_place + 1\n",
      "    rounded_next_to_decimal = np.round(mean * np.power(10, first_digit_decimals))\n",
      "    xbar_rounded = rounded_next_to_decimal * np.power(10, -first_digit_decimals)\n",
      "    if interval_decimal_place < 0:\n",
      "        digits_after_decimal = 0\n",
      "    else:\n",
      "        digits_after_decimal = int(interval_decimal_place + 1)\n",
      "    str_representation = (\"%.\" + str(digits_after_decimal) + \"f\") % xbar_rounded\n",
      "    return str_representation\n",
      "    \n",
      "def presentation_stddev(df, digits = 3):\n",
      "    if df.drop_duplicates().count() == 1:\n",
      "        stddev = 0\n",
      "        first_digit_decimals = -1\n",
      "    else:\n",
      "        stddev = df.std()\n",
      "        first_digit_decimals = np.ceil(-1 * np.log10(stddev)) - 1\n",
      "    rounded_next_to_decimal = np.round(stddev * np.power(10, first_digit_decimals), digits)\n",
      "    xbar_rounded = rounded_next_to_decimal * np.power(10, -first_digit_decimals)\n",
      "    digits_before_decimal = 0 if first_digit_decimals > 0 else int(-1 * first_digit_decimals)\n",
      "    digits_after_decimal = 0 if digits + int(first_digit_decimals) < 0 else digits + int(first_digit_decimals)\n",
      "    str_representation = (\"%\" + str(digits_before_decimal) + \".\" + str(digits_after_decimal) + \"f\") % xbar_rounded\n",
      "    if \".\" not in str_representation:\n",
      "        str_representation = str_representation + \".\"\n",
      "    return str_representation\n",
      "          \n",
      "def presentation_confidence_interval(df, level = .95, round_answer = True):\n",
      "    n = df.count()\n",
      "    s = df.std()\n",
      "    dof = n - 1\n",
      "    t_factor = student_t(dof, level)\n",
      "    CI = t_factor * s / np.sqrt(n)\n",
      "    str_representation = str(CI)\n",
      "    first_digit_decimals = 0\n",
      "    if df.drop_duplicates().count() == 1:\n",
      "        #all items are the same, standard deviation = 0\n",
      "        str_representation = \"0\"\n",
      "        first_digit_decimals = 0\n",
      "    elif round_answer:\n",
      "        (str_representation, first_digit_decimals) = round_CI(CI)\n",
      "    return (str_representation, first_digit_decimals)\n",
      "\n",
      "def round_CI(CI):\n",
      "    first_digit_decimals = np.ceil(-1 * np.log10(CI)) - 1\n",
      "    first_digit = str(CI * np.power(10, first_digit_decimals + 1))[0]\n",
      "    digits_to_use = 2 if int(first_digit) < 3 else 1\n",
      "    rounded_next_to_decimal = np.round(CI * np.power(10, first_digit_decimals), digits_to_use)\n",
      "    CI_rounded = rounded_next_to_decimal * np.power(10, -first_digit_decimals)\n",
      "    digits_before_decimal = 0 if first_digit_decimals > 0 else int(-1 * first_digit_decimals)\n",
      "    digits_after_decimal = 0 if digits_to_use + int(first_digit_decimals) < 0 else digits_to_use + int(first_digit_decimals)\n",
      "    str_representation = (\"%\" + str(digits_before_decimal) + \".\" + str(digits_after_decimal) + \"f\") % CI_rounded\n",
      "    #if \".\" not in str_representation:\n",
      "    #    str_representation = str_representation + \".\"\n",
      "    return (str_representation, first_digit_decimals)\n",
      "\n",
      "def do_error_analysis(data, key_column, val_column, vals_units, confidence_level):\n",
      "    vals_by_group = data.groupby(key_column)\n",
      "    group_names = vals_by_group.groups.keys()\n",
      "    presentation_data = pd.DataFrame(index=pd.Index(data=group_names, name=key_column), columns=[\"xbar\", \"interval\", \"interval_rounded\", \"t\"])\n",
      "    for group_name in group_names:\n",
      "        group_vals = vals_by_group.get_group(group_name)[val_column]\n",
      "        (interval_rounded, interval_first_digit) = presentation_confidence_interval(group_vals, level=confidence_level)\n",
      "        (interval, _) = presentation_confidence_interval(group_vals, level=confidence_level, round_answer=False)\n",
      "        xbar = presentation_xbar(group_vals, interval_first_digit)\n",
      "        presentation_data.ix[group_name].xbar = xbar\n",
      "        presentation_data.ix[group_name].interval = interval\n",
      "        presentation_data.ix[group_name].interval_rounded = interval_rounded\n",
      "        presentation_data.ix[group_name].t = student_t(group_vals.count()-1, confidence_level)\n",
      "    stddevs = vals_by_group[val_column].apply(presentation_stddev)\n",
      "    presentation_data[\"standard deviation\"] = stddevs\n",
      "    print(presentation_data)\n",
      "    presentation_data[\"err_analysis\"] = presentation_data.apply(lambda row: \"(\" + row.xbar + \" \u00b1 \" + row.interval_rounded + \") \" + vals_units, axis=1)\n",
      "    return presentation_data"
     ],
     "language": "python",
     "metadata": {},
     "outputs": [],
     "prompt_number": 73
    },
    {
     "cell_type": "heading",
     "level": 1,
     "metadata": {},
     "source": [
      "error analysis"
     ]
    },
    {
     "cell_type": "code",
     "collapsed": false,
     "input": [
      "data = pd.read_csv(data_file_path, sep=\"\\t\")\n",
      "data[\"key\"]=1\n",
      "data"
     ],
     "language": "python",
     "metadata": {},
     "outputs": [
      {
       "html": [
        "<div style=\"max-height:1000px;max-width:1500px;overflow:auto;\">\n",
        "<table border=\"1\" class=\"dataframe\">\n",
        "  <thead>\n",
        "    <tr style=\"text-align: right;\">\n",
        "      <th></th>\n",
        "      <th>weight ratio</th>\n",
        "      <th>x_phen</th>\n",
        "      <th>Microscopy Eutectic</th>\n",
        "      <th>Microscopy Liquidus</th>\n",
        "      <th>DSC  Eutectic</th>\n",
        "      <th>DSC Liquidus</th>\n",
        "      <th>key</th>\n",
        "    </tr>\n",
        "  </thead>\n",
        "  <tbody>\n",
        "    <tr>\n",
        "      <th>0 </th>\n",
        "      <td>  98/2</td>\n",
        "      <td> 0.970693</td>\n",
        "      <td> 97.7</td>\n",
        "      <td> 135.3</td>\n",
        "      <td> 98.04</td>\n",
        "      <td> 135.94</td>\n",
        "      <td> 1</td>\n",
        "    </tr>\n",
        "    <tr>\n",
        "      <th>1 </th>\n",
        "      <td>  95/5</td>\n",
        "      <td> 0.927761</td>\n",
        "      <td> 97.4</td>\n",
        "      <td> 135.4</td>\n",
        "      <td> 98.40</td>\n",
        "      <td> 135.10</td>\n",
        "      <td> 1</td>\n",
        "    </tr>\n",
        "    <tr>\n",
        "      <th>2 </th>\n",
        "      <td> 90/10</td>\n",
        "      <td> 0.858827</td>\n",
        "      <td> 97.6</td>\n",
        "      <td> 134.2</td>\n",
        "      <td> 98.91</td>\n",
        "      <td> 131.30</td>\n",
        "      <td> 1</td>\n",
        "    </tr>\n",
        "    <tr>\n",
        "      <th>3 </th>\n",
        "      <td> 80/20</td>\n",
        "      <td> 0.730005</td>\n",
        "      <td> 97.3</td>\n",
        "      <td> 122.9</td>\n",
        "      <td> 99.21</td>\n",
        "      <td> 125.42</td>\n",
        "      <td> 1</td>\n",
        "    </tr>\n",
        "    <tr>\n",
        "      <th>4 </th>\n",
        "      <td> 70/30</td>\n",
        "      <td> 0.611982</td>\n",
        "      <td> 97.6</td>\n",
        "      <td> 133.3</td>\n",
        "      <td> 99.13</td>\n",
        "      <td> 127.41</td>\n",
        "      <td> 1</td>\n",
        "    </tr>\n",
        "    <tr>\n",
        "      <th>5 </th>\n",
        "      <td> 60/40</td>\n",
        "      <td> 0.503455</td>\n",
        "      <td> 97.5</td>\n",
        "      <td> 120.0</td>\n",
        "      <td> 99.37</td>\n",
        "      <td> 110.62</td>\n",
        "      <td> 1</td>\n",
        "    </tr>\n",
        "    <tr>\n",
        "      <th>6 </th>\n",
        "      <td> 50/50</td>\n",
        "      <td> 0.403321</td>\n",
        "      <td> 97.6</td>\n",
        "      <td> 100.9</td>\n",
        "      <td> 99.16</td>\n",
        "      <td> 104.46</td>\n",
        "      <td> 1</td>\n",
        "    </tr>\n",
        "    <tr>\n",
        "      <th>7 </th>\n",
        "      <td> 40/60</td>\n",
        "      <td> 0.310644</td>\n",
        "      <td> 97.5</td>\n",
        "      <td> 104.9</td>\n",
        "      <td> 98.94</td>\n",
        "      <td> 108.32</td>\n",
        "      <td> 1</td>\n",
        "    </tr>\n",
        "    <tr>\n",
        "      <th>8 </th>\n",
        "      <td> 30/70</td>\n",
        "      <td> 0.224620</td>\n",
        "      <td> 97.5</td>\n",
        "      <td> 122.4</td>\n",
        "      <td> 98.88</td>\n",
        "      <td> 114.95</td>\n",
        "      <td> 1</td>\n",
        "    </tr>\n",
        "    <tr>\n",
        "      <th>9 </th>\n",
        "      <td> 20/80</td>\n",
        "      <td> 0.144558</td>\n",
        "      <td> 97.8</td>\n",
        "      <td> 124.7</td>\n",
        "      <td> 98.95</td>\n",
        "      <td> 116.77</td>\n",
        "      <td> 1</td>\n",
        "    </tr>\n",
        "    <tr>\n",
        "      <th>10</th>\n",
        "      <td> 10/90</td>\n",
        "      <td> 0.069858</td>\n",
        "      <td> 97.5</td>\n",
        "      <td> 125.5</td>\n",
        "      <td> 98.82</td>\n",
        "      <td> 124.71</td>\n",
        "      <td> 1</td>\n",
        "    </tr>\n",
        "    <tr>\n",
        "      <th>11</th>\n",
        "      <td>  5/95</td>\n",
        "      <td> 0.034354</td>\n",
        "      <td> 97.6</td>\n",
        "      <td> 127.2</td>\n",
        "      <td> 98.78</td>\n",
        "      <td> 127.06</td>\n",
        "      <td> 1</td>\n",
        "    </tr>\n",
        "    <tr>\n",
        "      <th>12</th>\n",
        "      <td>  2/98</td>\n",
        "      <td> 0.013607</td>\n",
        "      <td> 97.5</td>\n",
        "      <td> 127.7</td>\n",
        "      <td> 96.76</td>\n",
        "      <td> 128.07</td>\n",
        "      <td> 1</td>\n",
        "    </tr>\n",
        "  </tbody>\n",
        "</table>\n",
        "<p>13 rows \u00d7 7 columns</p>\n",
        "</div>"
       ],
       "metadata": {},
       "output_type": "pyout",
       "prompt_number": 74,
       "text": [
        "   weight ratio    x_phen  Microscopy Eutectic  Microscopy Liquidus  \\\n",
        "0          98/2  0.970693                 97.7                135.3   \n",
        "1          95/5  0.927761                 97.4                135.4   \n",
        "2         90/10  0.858827                 97.6                134.2   \n",
        "3         80/20  0.730005                 97.3                122.9   \n",
        "4         70/30  0.611982                 97.6                133.3   \n",
        "5         60/40  0.503455                 97.5                120.0   \n",
        "6         50/50  0.403321                 97.6                100.9   \n",
        "7         40/60  0.310644                 97.5                104.9   \n",
        "8         30/70  0.224620                 97.5                122.4   \n",
        "9         20/80  0.144558                 97.8                124.7   \n",
        "10        10/90  0.069858                 97.5                125.5   \n",
        "11         5/95  0.034354                 97.6                127.2   \n",
        "12         2/98  0.013607                 97.5                127.7   \n",
        "\n",
        "    DSC  Eutectic  DSC Liquidus  key  \n",
        "0           98.04        135.94    1  \n",
        "1           98.40        135.10    1  \n",
        "2           98.91        131.30    1  \n",
        "3           99.21        125.42    1  \n",
        "4           99.13        127.41    1  \n",
        "5           99.37        110.62    1  \n",
        "6           99.16        104.46    1  \n",
        "7           98.94        108.32    1  \n",
        "8           98.88        114.95    1  \n",
        "9           98.95        116.77    1  \n",
        "10          98.82        124.71    1  \n",
        "11          98.78        127.06    1  \n",
        "12          96.76        128.07    1  \n",
        "\n",
        "[13 rows x 7 columns]"
       ]
      }
     ],
     "prompt_number": 74
    },
    {
     "cell_type": "code",
     "collapsed": false,
     "input": [
      "key_column = \"key\"\n",
      "val_column = \"a\"\n",
      "data = pd.DataFrame.from_dict([{\"a\": 0.268}, {\"a\": 0.264}, {\"a\": 0.272}, {\"a\": 0.260}])\n",
      "data[key_column] = 1\n",
      "units = \"deg\"\n",
      "confidence_level = 0.95\n",
      "err_analysis = do_error_analysis(data, key_column, val_column, units, confidence_level)\n",
      "#err_analysis.to_csv(\"err_analysis.csv\")\n",
      "err_analysis\n"
     ],
     "language": "python",
     "metadata": {},
     "outputs": [
      {
       "output_type": "stream",
       "stream": "stdout",
       "text": [
        "      xbar          interval interval_rounded      t standard deviation\n",
        "key                                                                    \n",
        "1    0.266  0.00821588867175            0.008  3.182            0.00516\n",
        "\n",
        "[1 rows x 5 columns]\n"
       ]
      },
      {
       "html": [
        "<div style=\"max-height:1000px;max-width:1500px;overflow:auto;\">\n",
        "<table border=\"1\" class=\"dataframe\">\n",
        "  <thead>\n",
        "    <tr style=\"text-align: right;\">\n",
        "      <th></th>\n",
        "      <th>xbar</th>\n",
        "      <th>interval</th>\n",
        "      <th>interval_rounded</th>\n",
        "      <th>t</th>\n",
        "      <th>standard deviation</th>\n",
        "      <th>err_analysis</th>\n",
        "    </tr>\n",
        "    <tr>\n",
        "      <th>key</th>\n",
        "      <th></th>\n",
        "      <th></th>\n",
        "      <th></th>\n",
        "      <th></th>\n",
        "      <th></th>\n",
        "      <th></th>\n",
        "    </tr>\n",
        "  </thead>\n",
        "  <tbody>\n",
        "    <tr>\n",
        "      <th>1</th>\n",
        "      <td> 0.266</td>\n",
        "      <td> 0.00821588867175</td>\n",
        "      <td> 0.008</td>\n",
        "      <td> 3.182</td>\n",
        "      <td> 0.00516</td>\n",
        "      <td> (0.266 \u00b1 0.008) deg</td>\n",
        "    </tr>\n",
        "  </tbody>\n",
        "</table>\n",
        "<p>1 rows \u00d7 6 columns</p>\n",
        "</div>"
       ],
       "metadata": {},
       "output_type": "pyout",
       "prompt_number": 78,
       "text": [
        "      xbar          interval interval_rounded      t standard deviation  \\\n",
        "key                                                                       \n",
        "1    0.266  0.00821588867175            0.008  3.182            0.00516   \n",
        "\n",
        "            err_analysis  \n",
        "key                       \n",
        "1    (0.266 \u00b1 0.008) deg  \n",
        "\n",
        "[1 rows x 6 columns]"
       ]
      }
     ],
     "prompt_number": 78
    },
    {
     "cell_type": "code",
     "collapsed": false,
     "input": [
      "student_t(5,95)"
     ],
     "language": "python",
     "metadata": {},
     "outputs": [
      {
       "latex": [
        "$$nan$$"
       ],
       "metadata": {},
       "output_type": "pyout",
       "png": "[encoded data removed]",
       "prompt_number": 69,
       "text": [
        "nan"
       ]
      }
     ],
     "prompt_number": 69
    },
    {
     "cell_type": "heading",
     "level": 1,
     "metadata": {},
     "source": [
      "data analysis question 1"
     ]
    },
    {
     "cell_type": "code",
     "collapsed": false,
     "input": [
      "weight_ratios = pd.Series([\n",
      "                           Fraction(98,2), \n",
      "                           Fraction(95,5), \n",
      "                           Fraction(90,10), \n",
      "                           Fraction(80,20), \n",
      "                           Fraction(70,30), \n",
      "                           Fraction(60,40), \n",
      "                           Fraction(50,50), \n",
      "                           Fraction(40,60), \n",
      "                           Fraction(30,70), \n",
      "                           Fraction(20,80), \n",
      "                           Fraction(10,90), \n",
      "                           Fraction(5,95), \n",
      "                           Fraction(2,98)])\n",
      "x_phen = weight_ratios.apply(lambda ratio: (ratio.numerator / 179.216) / (ratio.numerator / 179.216 + ratio.denominator / 121.14))\n",
      "data = pd.concat([weight_ratios.apply(lambda val: str(val.numerator)) + \"/\" + weight_ratios.apply(lambda val: str(val.denominator)), x_phen], axis=1)\n",
      "data.columns=[\"weight ratios P/B\", \"mole ratio x_phen\"]\n",
      "data"
     ],
     "language": "python",
     "metadata": {},
     "outputs": [
      {
       "html": [
        "<div style=\"max-height:1000px;max-width:1500px;overflow:auto;\">\n",
        "<table border=\"1\" class=\"dataframe\">\n",
        "  <thead>\n",
        "    <tr style=\"text-align: right;\">\n",
        "      <th></th>\n",
        "      <th>weight ratios P/B</th>\n",
        "      <th>mole ratio x_phen</th>\n",
        "    </tr>\n",
        "  </thead>\n",
        "  <tbody>\n",
        "    <tr>\n",
        "      <th>0 </th>\n",
        "      <td> 49/1</td>\n",
        "      <td> 0.970693</td>\n",
        "    </tr>\n",
        "    <tr>\n",
        "      <th>1 </th>\n",
        "      <td> 19/1</td>\n",
        "      <td> 0.927761</td>\n",
        "    </tr>\n",
        "    <tr>\n",
        "      <th>2 </th>\n",
        "      <td>  9/1</td>\n",
        "      <td> 0.858827</td>\n",
        "    </tr>\n",
        "    <tr>\n",
        "      <th>3 </th>\n",
        "      <td>  4/1</td>\n",
        "      <td> 0.730005</td>\n",
        "    </tr>\n",
        "    <tr>\n",
        "      <th>4 </th>\n",
        "      <td>  7/3</td>\n",
        "      <td> 0.611982</td>\n",
        "    </tr>\n",
        "    <tr>\n",
        "      <th>5 </th>\n",
        "      <td>  3/2</td>\n",
        "      <td> 0.503455</td>\n",
        "    </tr>\n",
        "    <tr>\n",
        "      <th>6 </th>\n",
        "      <td>  1/1</td>\n",
        "      <td> 0.403321</td>\n",
        "    </tr>\n",
        "    <tr>\n",
        "      <th>7 </th>\n",
        "      <td>  2/3</td>\n",
        "      <td> 0.310644</td>\n",
        "    </tr>\n",
        "    <tr>\n",
        "      <th>8 </th>\n",
        "      <td>  3/7</td>\n",
        "      <td> 0.224620</td>\n",
        "    </tr>\n",
        "    <tr>\n",
        "      <th>9 </th>\n",
        "      <td>  1/4</td>\n",
        "      <td> 0.144558</td>\n",
        "    </tr>\n",
        "    <tr>\n",
        "      <th>10</th>\n",
        "      <td>  1/9</td>\n",
        "      <td> 0.069858</td>\n",
        "    </tr>\n",
        "    <tr>\n",
        "      <th>11</th>\n",
        "      <td> 1/19</td>\n",
        "      <td> 0.034354</td>\n",
        "    </tr>\n",
        "    <tr>\n",
        "      <th>12</th>\n",
        "      <td> 1/49</td>\n",
        "      <td> 0.013607</td>\n",
        "    </tr>\n",
        "  </tbody>\n",
        "</table>\n",
        "<p>13 rows \u00d7 2 columns</p>\n",
        "</div>"
       ],
       "metadata": {},
       "output_type": "pyout",
       "prompt_number": 9,
       "text": [
        "   weight ratios P/B  mole ratio x_phen\n",
        "0               49/1           0.970693\n",
        "1               19/1           0.927761\n",
        "2                9/1           0.858827\n",
        "3                4/1           0.730005\n",
        "4                7/3           0.611982\n",
        "5                3/2           0.503455\n",
        "6                1/1           0.403321\n",
        "7                2/3           0.310644\n",
        "8                3/7           0.224620\n",
        "9                1/4           0.144558\n",
        "10               1/9           0.069858\n",
        "11              1/19           0.034354\n",
        "12              1/49           0.013607\n",
        "\n",
        "[13 rows x 2 columns]"
       ]
      }
     ],
     "prompt_number": 9
    },
    {
     "cell_type": "code",
     "collapsed": false,
     "input": [],
     "language": "python",
     "metadata": {},
     "outputs": [],
     "prompt_number": 104
    },
    {
     "cell_type": "heading",
     "level": 1,
     "metadata": {},
     "source": [
      "error propogation"
     ]
    },
    {
     "cell_type": "code",
     "collapsed": false,
     "input": [
      "#todo: need a way to easily pass in unrounded confidence interval\n",
      "def present_error_propogation(symbols, equation, equation_name, equation_units):\n",
      "    symbol_value_substitutions = {symbol.ref: symbol.value for symbol in symbols}\n",
      "    render_math_image(equation_name + r\"=(\" + sympy.latex(equation) + r\"\\pm\\lambda_{\" + equation_name + r\"})\\ \" + equation_units)\n",
      "    line_1 = []\n",
      "    line_2 = []\n",
      "    line_3 = []\n",
      "    \n",
      "    #get confidence interval\n",
      "    grand_lambda_squared = 0\n",
      "    for symbol in symbols:\n",
      "        if (symbol.include_in_error_calcs):\n",
      "            partial_derivative = equation.diff(symbol.ref)\n",
      "            line_1.append(r'(\\frac{\\partial ' + equation_name + r'}{\\partial ' + symbol.expression + r'})^{2}\\lambda_{' + symbol.expression + r'}^{2}')\n",
      "            line_2.append(r'(' + sympy.latex(partial_derivative) + r')^{2}\\lambda_{' + symbol.expression + r'}^{2}')\n",
      "            tmp_equation = partial_derivative\n",
      "            for symbol_2 in symbols:\n",
      "                tmp_equation = tmp_equation.replace(symbol_2.ref, sympy.Symbol(\"(\" + str(symbol_2.value) + str(symbol_2.units) + r\")\"))\n",
      "            line_3.append(sympy.latex(tmp_equation ** 2) + r\"\\times\" + sympy.latex(sympy.Symbol(\"(\" + str(symbol.confidence_interval) + str(symbol.units) + r\")\") **2))\n",
      "            grand_lambda_squared += partial_derivative.evalf(subs=symbol_value_substitutions) **2 * symbol.confidence_interval **2\n",
      "    render_math_image(r\"\\lambda_\" + equation_name + r\"=\\sqrt{\" + \"+\".join(line_1) + \"}\")\n",
      "    render_math_image(r\"=\\sqrt{\" + \"+\".join(line_2) + \"}\")\n",
      "    render_math_image(r\"=\\sqrt{\" + \"+\".join(line_3) + \"}\")\n",
      "    grand_lambda = float(str(sympy.sqrt(grand_lambda_squared)))\n",
      "    ci_data = round_CI(grand_lambda)\n",
      "    grand_lambda_rounded = ci_data[0]\n",
      "    interval_decimal_place = ci_data[1]\n",
      "    render_math_image(r\"=\" + grand_lambda_rounded + equation_units)\n",
      "    \n",
      "    #get value\n",
      "    tmp_equation = equation\n",
      "    for symbol in symbols:\n",
      "        tmp_equation = tmp_equation.replace(symbol.ref, sympy.Symbol(\"(\" + str(symbol.value) + str(symbol.units) + r\")\"))\n",
      "    render_math_image(sympy.latex(equation) + r\"=\" + sympy.latex(tmp_equation))\n",
      "    grand_val = float(str(equation.evalf(subs=symbol_value_substitutions)))\n",
      "    grand_val_rounded = round_xbar(grand_val, interval_decimal_place)\n",
      "    render_math_image(r\"=\" + grand_val_rounded + equation_units)\n",
      "    \n",
      "    #print whole expression\n",
      "    render_math_image(equation_name + r\"=(\" + grand_val_rounded + r\"\\pm\" + grand_lambda_rounded + r\")\" + equation_units)\n",
      "    \n",
      "    return (grand_val, grand_lambda)\n",
      "\n",
      "class define_symbol:\n",
      "    def __init__(self, expression, value, confidence_interval = None, units = None, include_in_error_calcs = True):\n",
      "        self.expression = expression\n",
      "        self.value = np.float(value)\n",
      "        self.confidence_interval = np.float(confidence_interval)\n",
      "        self.units = units\n",
      "        self.include_in_error_calcs = include_in_error_calcs\n",
      "        self.ref = sympy.Symbol(expression)"
     ],
     "language": "python",
     "metadata": {},
     "outputs": [],
     "prompt_number": 135
    },
    {
     "cell_type": "code",
     "collapsed": false,
     "input": [
      "#yliquidus, left side=((-64 \u00b1 5)x+(128.2 \u00b1 0.8)) \u00baC\n",
      "#yliquidus, right side=((46 \u00b1 6)x+(91 \u00b1 4)) \u00baC\n",
      "\n",
      "m_l = define_symbol(\"m_l\", -64, 5, units = r\"{^\\circ}{C}\", include_in_error_calcs=True)\n",
      "m_r = define_symbol(\"m_r\", 46, 6, units = r\"{^\\circ}{C}\", include_in_error_calcs=True)\n",
      "b_l = define_symbol(\"b_l\", 128.2, .8, units = r\"{^\\circ}{C}\", include_in_error_calcs=True)\n",
      "b_r = define_symbol(\"b_r\", 91, .4, units = r\"{^\\circ}{C}\", include_in_error_calcs=True)\n",
      "y_eutectic = define_symbol(\"y_{eutectic}\", 98.7, 0.4, units = r\"{^\\circ}{C}\", include_in_error_calcs=True)\n",
      "#x_phen = (y_eutectic.ref - b_r.ref) / m_r.ref \n",
      "#present_error_propogation([y_eutectic, m_r, b_r], x_phen, \"{x_{phen}}\", \"\") #, r\"{\\frac{mols P}{mols P+B}}\")\n",
      "#x_phen = (y_eutectic.ref - b_r.ref) / m_r.ref \n",
      "#present_error_propogation([y_eutectic, m_r, b_r], x_phen, \"{x_{phen}}\", \"\") #, r\"{\\frac{mols P}{mols P+B}}\")\n",
      "#x_phen = ((b_r.ref-b_l.ref)/(m_l.ref-m_r.ref))\n",
      "#present_error_propogation([m_l, m_r, b_r, b_l], x_phen, \"{x_{phen}}\", \"\") #, r\"{\\frac{mols P}{mols P+B}}\")\n",
      "\n",
      "x_phen_1 = define_symbol(\"x_{phen1}\", 0.46, 0.04, units = r\"\", include_in_error_calcs=True)\n",
      "x_phen_2 = define_symbol(\"x_{phen2}\", 0.17, 0.025, units = r\"\", include_in_error_calcs=True)\n",
      "x_phen_3 = define_symbol(\"x_{phen3}\", 0.34, 0.025, units = r\"\", include_in_error_calcs=True)\n",
      "x_phenavg = (x_phen_1.ref + x_phen_2.ref + x_phen_3.ref) / 3\n",
      "present_error_propogation([x_phen_1, x_phen_2, x_phen_3], x_phenavg, r\"{\\bar{x}_{phen}}\", \"\") #, r\"{\\frac{mols P}{mols P+B}}\")\n"
     ],
     "language": "python",
     "metadata": {},
     "outputs": [
      {
       "metadata": {},
       "output_type": "display_data",
       "png": "[encoded data removed]",
       "text": [
        "<IPython.core.display.Image at 0x5f31e90>"
       ]
      },
      {
       "metadata": {},
       "output_type": "display_data",
       "png": "[encoded data removed]",
       "text": [
        "<IPython.core.display.Image at 0x5f31e90>"
       ]
      },
      {
       "metadata": {},
       "output_type": "display_data",
       "png": "[encoded data removed]",
       "text": [
        "<IPython.core.display.Image at 0x5f31e90>"
       ]
      },
      {
       "metadata": {},
       "output_type": "display_data",
       "png": "[encoded data removed]",
       "text": [
        "<IPython.core.display.Image at 0x5f31e90>"
       ]
      },
      {
       "metadata": {},
       "output_type": "display_data",
       "png": "[encoded data removed]",
       "text": [
        "<IPython.core.display.Image at 0x5f31e90>"
       ]
      },
      {
       "metadata": {},
       "output_type": "display_data",
       "png": "[encoded data removed]",
       "text": [
        "<IPython.core.display.Image at 0x5f31e90>"
       ]
      },
      {
       "metadata": {},
       "output_type": "display_data",
       "png": "[encoded data removed]",
       "text": [
        "<IPython.core.display.Image at 0x5f31e90>"
       ]
      },
      {
       "metadata": {},
       "output_type": "display_data",
       "png": "[encoded data removed]",
       "text": [
        "<IPython.core.display.Image at 0x5f31e90>"
       ]
      },
      {
       "latex": [
        "$$\\begin{pmatrix}0.323333333333, & 0.0177951304201\\end{pmatrix}$$"
       ],
       "metadata": {},
       "output_type": "pyout",
       "prompt_number": 134,
       "text": [
        "(0.323333333333, 0.0177951304201)"
       ]
      }
     ],
     "prompt_number": 134
    },
    {
     "cell_type": "code",
     "collapsed": false,
     "input": [
      "a = define_symbol(\"a\", .266, 0.008215, units = r\"\", include_in_error_calcs=True)\n",
      "b = define_symbol(\"b\", 1, 0.0196, units = r\"cm\", include_in_error_calcs=True)\n",
      "c = define_symbol(\"c\", 3.24 * pow(10, -4), 0.023 * pow(10, -4), units = r\"\\frac{mol}{L}\", include_in_error_calcs=True)\n",
      "epsilon = a.ref / (b.ref * c.ref)\n",
      "present_error_propogation([a,b,c], epsilon, r\"\\epsilon\", r\"\\frac{L}{mol\\times{cm}}\")\n"
     ],
     "language": "python",
     "metadata": {},
     "outputs": [
      {
       "metadata": {},
       "output_type": "display_data",
       "png": "[encoded data removed]",
       "text": [
        "<IPython.core.display.Image at 0x5c61610>"
       ]
      },
      {
       "metadata": {},
       "output_type": "display_data",
       "png": "[encoded data removed]",
       "text": [
        "<IPython.core.display.Image at 0x5fc7e10>"
       ]
      },
      {
       "metadata": {},
       "output_type": "display_data",
       "png": "[encoded data removed]",
       "text": [
        "<IPython.core.display.Image at 0x5fc7e10>"
       ]
      },
      {
       "metadata": {},
       "output_type": "display_data",
       "png": "[encoded data removed]",
       "text": [
        "<IPython.core.display.Image at 0x5fc7e10>"
       ]
      },
      {
       "metadata": {},
       "output_type": "display_data",
       "png": "[encoded data removed]",
       "text": [
        "<IPython.core.display.Image at 0x5c61050>"
       ]
      },
      {
       "metadata": {},
       "output_type": "display_data",
       "png": "[encoded data removed]",
       "text": [
        "<IPython.core.display.Image at 0x5fc7e10>"
       ]
      },
      {
       "metadata": {},
       "output_type": "display_data",
       "png": "[encoded data removed]",
       "text": [
        "<IPython.core.display.Image at 0x5c61050>"
       ]
      },
      {
       "metadata": {},
       "output_type": "display_data",
       "png": "[encoded data removed]",
       "text": [
        "<IPython.core.display.Image at 0x5fc7e10>"
       ]
      },
      {
       "latex": [
        "$$\\begin{pmatrix}820.987654321, & 30.5903623323\\end{pmatrix}$$"
       ],
       "metadata": {},
       "output_type": "pyout",
       "prompt_number": 136,
       "text": [
        "(820.987654321, 30.5903623323)"
       ]
      }
     ],
     "prompt_number": 136
    },
    {
     "cell_type": "markdown",
     "metadata": {},
     "source": [
      "$$^\\circ$$"
     ]
    },
    {
     "cell_type": "markdown",
     "metadata": {},
     "source": [
      "$\\bar{x}$"
     ]
    },
    {
     "cell_type": "code",
     "collapsed": false,
     "input": [
      "np.sqrt(np.power(1/(3.24*10**-4), 2)*.008215**2 + np.power(-.266/(3.24*10**-4), 2)*.0196**2 + np.power(.266**2/((3.24*10**-4)**2), 2) * (0.023*10**-4)**2)"
     ],
     "language": "python",
     "metadata": {},
     "outputs": [
      {
       "latex": [
        "$$30.0700509759$$"
       ],
       "metadata": {},
       "output_type": "pyout",
       "png": "[encoded data removed]",
       "prompt_number": 99,
       "text": [
        "30.0700509759"
       ]
      }
     ],
     "prompt_number": 99
    },
    {
     "cell_type": "code",
     "collapsed": false,
     "input": [
      ".266/(3.24*10**-4)"
     ],
     "language": "python",
     "metadata": {},
     "outputs": [
      {
       "latex": [
        "$$820.987654321$$"
       ],
       "metadata": {},
       "output_type": "pyout",
       "png": "[encoded data removed]",
       "prompt_number": 105,
       "text": [
        "820.987654321"
       ]
      }
     ],
     "prompt_number": 105
    },
    {
     "cell_type": "code",
     "collapsed": false,
     "input": [],
     "language": "python",
     "metadata": {},
     "outputs": []
    }
   ],
   "metadata": {}
  }
 ]
}